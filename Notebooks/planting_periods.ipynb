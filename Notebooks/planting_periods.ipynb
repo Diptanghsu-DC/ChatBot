{
 "cells": [
  {
   "cell_type": "code",
   "execution_count": 1,
   "metadata": {},
   "outputs": [],
   "source": [
    "import pandas as pd\n",
    "import mysql.connector\n",
    "from datetime import datetime\n",
    "import numpy as np"
   ]
  },
  {
   "cell_type": "code",
   "execution_count": 2,
   "metadata": {},
   "outputs": [],
   "source": [
    "db_config = {\n",
    "    \"host\": \"localhost\",\n",
    "    \"user\": \"root\",\n",
    "    \"password\": \"root\",\n",
    "    \"database\": \"sih_project_1491\",\n",
    "}"
   ]
  },
  {
   "cell_type": "code",
   "execution_count": 3,
   "metadata": {},
   "outputs": [],
   "source": [
    "data = pd.read_csv(\"C:\\\\Nayan\\\\Programming\\\\.vscode\\\\SIH\\\\Waka_ChatBot\\\\Data\\\\crop_plantings.csv\")"
   ]
  },
  {
   "cell_type": "code",
   "execution_count": 4,
   "metadata": {},
   "outputs": [
    {
     "data": {
      "text/html": [
       "<div>\n",
       "<style scoped>\n",
       "    .dataframe tbody tr th:only-of-type {\n",
       "        vertical-align: middle;\n",
       "    }\n",
       "\n",
       "    .dataframe tbody tr th {\n",
       "        vertical-align: top;\n",
       "    }\n",
       "\n",
       "    .dataframe thead th {\n",
       "        text-align: right;\n",
       "    }\n",
       "</style>\n",
       "<table border=\"1\" class=\"dataframe\">\n",
       "  <thead>\n",
       "    <tr style=\"text-align: right;\">\n",
       "      <th></th>\n",
       "      <th>Location</th>\n",
       "      <th>Crop</th>\n",
       "      <th>Plant_start_date</th>\n",
       "      <th>Plant_end_date</th>\n",
       "      <th>Harvest_start_date</th>\n",
       "      <th>Harvest_end_date</th>\n",
       "    </tr>\n",
       "  </thead>\n",
       "  <tbody>\n",
       "    <tr>\n",
       "      <th>0</th>\n",
       "      <td>Albania</td>\n",
       "      <td>Wheat</td>\n",
       "      <td>16-Oct</td>\n",
       "      <td>15-Dec</td>\n",
       "      <td>01-May</td>\n",
       "      <td>30-Jun</td>\n",
       "    </tr>\n",
       "    <tr>\n",
       "      <th>1</th>\n",
       "      <td>Albania</td>\n",
       "      <td>Maize</td>\n",
       "      <td>16-Apr</td>\n",
       "      <td>16-Jun</td>\n",
       "      <td>16-Aug</td>\n",
       "      <td>31-Oct</td>\n",
       "    </tr>\n",
       "    <tr>\n",
       "      <th>2</th>\n",
       "      <td>Albania</td>\n",
       "      <td>Pulses</td>\n",
       "      <td>16-Apr</td>\n",
       "      <td>26-Jun</td>\n",
       "      <td>16-Jul</td>\n",
       "      <td>31-Aug</td>\n",
       "    </tr>\n",
       "    <tr>\n",
       "      <th>3</th>\n",
       "      <td>Albania</td>\n",
       "      <td>Other</td>\n",
       "      <td>16-Oct</td>\n",
       "      <td>06-Dec</td>\n",
       "      <td>14-Feb</td>\n",
       "      <td>15-Apr</td>\n",
       "    </tr>\n",
       "    <tr>\n",
       "      <th>4</th>\n",
       "      <td>Albania</td>\n",
       "      <td>Other</td>\n",
       "      <td>16-Apr</td>\n",
       "      <td>17-May</td>\n",
       "      <td>17-Aug</td>\n",
       "      <td>15-Oct</td>\n",
       "    </tr>\n",
       "    <tr>\n",
       "      <th>...</th>\n",
       "      <td>...</td>\n",
       "      <td>...</td>\n",
       "      <td>...</td>\n",
       "      <td>...</td>\n",
       "      <td>...</td>\n",
       "      <td>...</td>\n",
       "    </tr>\n",
       "    <tr>\n",
       "      <th>1505</th>\n",
       "      <td>Zimbabwe</td>\n",
       "      <td>Cotton</td>\n",
       "      <td>01-Oct</td>\n",
       "      <td>30-Nov</td>\n",
       "      <td>01-Apr</td>\n",
       "      <td>31-May</td>\n",
       "    </tr>\n",
       "    <tr>\n",
       "      <th>1506</th>\n",
       "      <td>Zimbabwe</td>\n",
       "      <td>Groundnuts</td>\n",
       "      <td>01-Jun</td>\n",
       "      <td>17-Jul</td>\n",
       "      <td>01-Oct</td>\n",
       "      <td>31-Dec</td>\n",
       "    </tr>\n",
       "    <tr>\n",
       "      <th>1507</th>\n",
       "      <td>Zimbabwe</td>\n",
       "      <td>Sunflower</td>\n",
       "      <td>01-Nov</td>\n",
       "      <td>31-Dec</td>\n",
       "      <td>01-Apr</td>\n",
       "      <td>31-May</td>\n",
       "    </tr>\n",
       "    <tr>\n",
       "      <th>1508</th>\n",
       "      <td>Somalia</td>\n",
       "      <td>Sorghum</td>\n",
       "      <td>05-Apr</td>\n",
       "      <td>05-May</td>\n",
       "      <td>05-Aug</td>\n",
       "      <td>05-Sep</td>\n",
       "    </tr>\n",
       "    <tr>\n",
       "      <th>1509</th>\n",
       "      <td>Somalia</td>\n",
       "      <td>Sorghum</td>\n",
       "      <td>20-Oct</td>\n",
       "      <td>19-Nov</td>\n",
       "      <td>22-Mar</td>\n",
       "      <td>20-Apr</td>\n",
       "    </tr>\n",
       "  </tbody>\n",
       "</table>\n",
       "<p>1510 rows × 6 columns</p>\n",
       "</div>"
      ],
      "text/plain": [
       "      Location        Crop Plant_start_date Plant_end_date Harvest_start_date  \\\n",
       "0      Albania       Wheat           16-Oct         15-Dec             01-May   \n",
       "1      Albania       Maize           16-Apr         16-Jun             16-Aug   \n",
       "2      Albania      Pulses           16-Apr         26-Jun             16-Jul   \n",
       "3      Albania       Other           16-Oct         06-Dec             14-Feb   \n",
       "4      Albania       Other           16-Apr         17-May             17-Aug   \n",
       "...        ...         ...              ...            ...                ...   \n",
       "1505  Zimbabwe      Cotton           01-Oct         30-Nov             01-Apr   \n",
       "1506  Zimbabwe  Groundnuts           01-Jun         17-Jul             01-Oct   \n",
       "1507  Zimbabwe   Sunflower           01-Nov         31-Dec             01-Apr   \n",
       "1508   Somalia     Sorghum           05-Apr         05-May             05-Aug   \n",
       "1509   Somalia     Sorghum           20-Oct         19-Nov             22-Mar   \n",
       "\n",
       "     Harvest_end_date  \n",
       "0              30-Jun  \n",
       "1              31-Oct  \n",
       "2              31-Aug  \n",
       "3              15-Apr  \n",
       "4              15-Oct  \n",
       "...               ...  \n",
       "1505           31-May  \n",
       "1506           31-Dec  \n",
       "1507           31-May  \n",
       "1508           05-Sep  \n",
       "1509           20-Apr  \n",
       "\n",
       "[1510 rows x 6 columns]"
      ]
     },
     "execution_count": 4,
     "metadata": {},
     "output_type": "execute_result"
    }
   ],
   "source": [
    "data"
   ]
  },
  {
   "cell_type": "code",
   "execution_count": 5,
   "metadata": {},
   "outputs": [],
   "source": [
    "date_columns = [\"Plant_start_date\", \"Plant_end_date\", \"Harvest_start_date\", \"Harvest_end_date\"]\n",
    "for item in date_columns:\n",
    "    data[item] = data[item].apply(lambda x: datetime.strptime(x, \"%d-%b\").strftime(\"2023-%m-%d\") if isinstance(x, str) and x != 'nan' else None)\n"
   ]
  },
  {
   "cell_type": "code",
   "execution_count": 6,
   "metadata": {},
   "outputs": [
    {
     "data": {
      "text/plain": [
       "'2023-10-16'"
      ]
     },
     "execution_count": 6,
     "metadata": {},
     "output_type": "execute_result"
    }
   ],
   "source": [
    "data[\"Plant_start_date\"][0]"
   ]
  },
  {
   "cell_type": "code",
   "execution_count": 26,
   "metadata": {},
   "outputs": [],
   "source": [
    "conn = mysql.connector.connect(**db_config)\n",
    "cursor = conn.cursor(dictionary=True)"
   ]
  },
  {
   "cell_type": "code",
   "execution_count": 8,
   "metadata": {},
   "outputs": [],
   "source": [
    "# for index, row in data.iterrows():\n",
    "#     insert_query = \"INSERT INTO planting_times (Location, Crop, Plant_start_date, Plant_end_date, Harvest_start_date, Harvest_end_date) VALUES (%s, %s, %s, %s, %s, %s)\"\n",
    "#     cursor.execute(insert_query, (row[\"Location\"], row[\"Crop\"], row[\"Plant_start_date\"], row[\"Plant_end_date\"], row[\"Harvest_start_date\"], row[\"Harvest_end_date\"]))"
   ]
  },
  {
   "cell_type": "code",
   "execution_count": 9,
   "metadata": {},
   "outputs": [],
   "source": [
    "conn.commit()"
   ]
  },
  {
   "cell_type": "code",
   "execution_count": 31,
   "metadata": {},
   "outputs": [],
   "source": [
    "cursor.close()\n",
    "conn.close()"
   ]
  },
  {
   "cell_type": "code",
   "execution_count": 11,
   "metadata": {},
   "outputs": [],
   "source": [
    "search_query = \"SELECT * FROM planting_times WHERE Location = %s AND Crop = %s\""
   ]
  },
  {
   "cell_type": "code",
   "execution_count": 27,
   "metadata": {},
   "outputs": [],
   "source": [
    "location = \"India\"\n",
    "crop = \"Rice\""
   ]
  },
  {
   "cell_type": "code",
   "execution_count": 28,
   "metadata": {},
   "outputs": [],
   "source": [
    "cursor.execute(search_query, (location, crop))"
   ]
  },
  {
   "cell_type": "code",
   "execution_count": 29,
   "metadata": {},
   "outputs": [],
   "source": [
    "results = cursor.fetchall()"
   ]
  },
  {
   "cell_type": "code",
   "execution_count": 30,
   "metadata": {},
   "outputs": [
    {
     "name": "stdout",
     "output_type": "stream",
     "text": [
      "No matching records found.\n"
     ]
    }
   ],
   "source": [
    "if results:\n",
    "        for row in results:\n",
    "            print(row)\n",
    "else:\n",
    "    print(\"No matching records found.\")"
   ]
  },
  {
   "cell_type": "code",
   "execution_count": 16,
   "metadata": {},
   "outputs": [
    {
     "data": {
      "text/plain": [
       "[{'Location': 'Albania',\n",
       "  'Crop': 'Maize',\n",
       "  'Plant_start_date': '2023-04-16',\n",
       "  'Plant_end_date': '2023-06-16',\n",
       "  'Harvest_start_date': '2023-08-16',\n",
       "  'Harvest_end_date': '2023-10-31'}]"
      ]
     },
     "execution_count": 16,
     "metadata": {},
     "output_type": "execute_result"
    }
   ],
   "source": [
    "results"
   ]
  },
  {
   "cell_type": "code",
   "execution_count": 17,
   "metadata": {},
   "outputs": [],
   "source": [
    "info = results[0][\"Plant_start_date\"]"
   ]
  },
  {
   "cell_type": "code",
   "execution_count": 18,
   "metadata": {},
   "outputs": [
    {
     "data": {
      "text/plain": [
       "'2023-04-16'"
      ]
     },
     "execution_count": 18,
     "metadata": {},
     "output_type": "execute_result"
    }
   ],
   "source": [
    "info"
   ]
  },
  {
   "cell_type": "code",
   "execution_count": 19,
   "metadata": {},
   "outputs": [],
   "source": [
    "date_object = datetime.strptime(info, \"%Y-%m-%d\")"
   ]
  },
  {
   "cell_type": "code",
   "execution_count": 22,
   "metadata": {},
   "outputs": [],
   "source": [
    "month = date_object.strftime(\"%m\")\n",
    "day = date_object.strftime(\"%d\")"
   ]
  },
  {
   "cell_type": "code",
   "execution_count": 23,
   "metadata": {},
   "outputs": [
    {
     "data": {
      "text/plain": [
       "'04'"
      ]
     },
     "execution_count": 23,
     "metadata": {},
     "output_type": "execute_result"
    }
   ],
   "source": [
    "month"
   ]
  },
  {
   "cell_type": "code",
   "execution_count": 24,
   "metadata": {},
   "outputs": [
    {
     "data": {
      "text/plain": [
       "'16'"
      ]
     },
     "execution_count": 24,
     "metadata": {},
     "output_type": "execute_result"
    }
   ],
   "source": [
    "day"
   ]
  },
  {
   "cell_type": "code",
   "execution_count": 20,
   "metadata": {},
   "outputs": [
    {
     "data": {
      "text/html": [
       "<div>\n",
       "<style scoped>\n",
       "    .dataframe tbody tr th:only-of-type {\n",
       "        vertical-align: middle;\n",
       "    }\n",
       "\n",
       "    .dataframe tbody tr th {\n",
       "        vertical-align: top;\n",
       "    }\n",
       "\n",
       "    .dataframe thead th {\n",
       "        text-align: right;\n",
       "    }\n",
       "</style>\n",
       "<table border=\"1\" class=\"dataframe\">\n",
       "  <thead>\n",
       "    <tr style=\"text-align: right;\">\n",
       "      <th></th>\n",
       "      <th>Location</th>\n",
       "      <th>Crop</th>\n",
       "      <th>Plant_start_date</th>\n",
       "      <th>Plant_end_date</th>\n",
       "      <th>Harvest_start_date</th>\n",
       "      <th>Harvest_end_date</th>\n",
       "    </tr>\n",
       "  </thead>\n",
       "  <tbody>\n",
       "    <tr>\n",
       "      <th>0</th>\n",
       "      <td>Albania</td>\n",
       "      <td>Wheat</td>\n",
       "      <td>2023-10-16</td>\n",
       "      <td>2023-12-15</td>\n",
       "      <td>2023-05-01</td>\n",
       "      <td>2023-06-30</td>\n",
       "    </tr>\n",
       "    <tr>\n",
       "      <th>1</th>\n",
       "      <td>Albania</td>\n",
       "      <td>Maize</td>\n",
       "      <td>2023-04-16</td>\n",
       "      <td>2023-06-16</td>\n",
       "      <td>2023-08-16</td>\n",
       "      <td>2023-10-31</td>\n",
       "    </tr>\n",
       "    <tr>\n",
       "      <th>2</th>\n",
       "      <td>Albania</td>\n",
       "      <td>Pulses</td>\n",
       "      <td>2023-04-16</td>\n",
       "      <td>2023-06-26</td>\n",
       "      <td>2023-07-16</td>\n",
       "      <td>2023-08-31</td>\n",
       "    </tr>\n",
       "    <tr>\n",
       "      <th>3</th>\n",
       "      <td>Albania</td>\n",
       "      <td>Other</td>\n",
       "      <td>2023-10-16</td>\n",
       "      <td>2023-12-06</td>\n",
       "      <td>2023-02-14</td>\n",
       "      <td>2023-04-15</td>\n",
       "    </tr>\n",
       "    <tr>\n",
       "      <th>4</th>\n",
       "      <td>Albania</td>\n",
       "      <td>Other</td>\n",
       "      <td>2023-04-16</td>\n",
       "      <td>2023-05-17</td>\n",
       "      <td>2023-08-17</td>\n",
       "      <td>2023-10-15</td>\n",
       "    </tr>\n",
       "    <tr>\n",
       "      <th>...</th>\n",
       "      <td>...</td>\n",
       "      <td>...</td>\n",
       "      <td>...</td>\n",
       "      <td>...</td>\n",
       "      <td>...</td>\n",
       "      <td>...</td>\n",
       "    </tr>\n",
       "    <tr>\n",
       "      <th>1505</th>\n",
       "      <td>Zimbabwe</td>\n",
       "      <td>Cotton</td>\n",
       "      <td>2023-10-01</td>\n",
       "      <td>2023-11-30</td>\n",
       "      <td>2023-04-01</td>\n",
       "      <td>2023-05-31</td>\n",
       "    </tr>\n",
       "    <tr>\n",
       "      <th>1506</th>\n",
       "      <td>Zimbabwe</td>\n",
       "      <td>Groundnuts</td>\n",
       "      <td>2023-06-01</td>\n",
       "      <td>2023-07-17</td>\n",
       "      <td>2023-10-01</td>\n",
       "      <td>2023-12-31</td>\n",
       "    </tr>\n",
       "    <tr>\n",
       "      <th>1507</th>\n",
       "      <td>Zimbabwe</td>\n",
       "      <td>Sunflower</td>\n",
       "      <td>2023-11-01</td>\n",
       "      <td>2023-12-31</td>\n",
       "      <td>2023-04-01</td>\n",
       "      <td>2023-05-31</td>\n",
       "    </tr>\n",
       "    <tr>\n",
       "      <th>1508</th>\n",
       "      <td>Somalia</td>\n",
       "      <td>Sorghum</td>\n",
       "      <td>2023-04-05</td>\n",
       "      <td>2023-05-05</td>\n",
       "      <td>2023-08-05</td>\n",
       "      <td>2023-09-05</td>\n",
       "    </tr>\n",
       "    <tr>\n",
       "      <th>1509</th>\n",
       "      <td>Somalia</td>\n",
       "      <td>Sorghum</td>\n",
       "      <td>2023-10-20</td>\n",
       "      <td>2023-11-19</td>\n",
       "      <td>2023-03-22</td>\n",
       "      <td>2023-04-20</td>\n",
       "    </tr>\n",
       "  </tbody>\n",
       "</table>\n",
       "<p>1510 rows × 6 columns</p>\n",
       "</div>"
      ],
      "text/plain": [
       "      Location        Crop Plant_start_date Plant_end_date Harvest_start_date  \\\n",
       "0      Albania       Wheat       2023-10-16     2023-12-15         2023-05-01   \n",
       "1      Albania       Maize       2023-04-16     2023-06-16         2023-08-16   \n",
       "2      Albania      Pulses       2023-04-16     2023-06-26         2023-07-16   \n",
       "3      Albania       Other       2023-10-16     2023-12-06         2023-02-14   \n",
       "4      Albania       Other       2023-04-16     2023-05-17         2023-08-17   \n",
       "...        ...         ...              ...            ...                ...   \n",
       "1505  Zimbabwe      Cotton       2023-10-01     2023-11-30         2023-04-01   \n",
       "1506  Zimbabwe  Groundnuts       2023-06-01     2023-07-17         2023-10-01   \n",
       "1507  Zimbabwe   Sunflower       2023-11-01     2023-12-31         2023-04-01   \n",
       "1508   Somalia     Sorghum       2023-04-05     2023-05-05         2023-08-05   \n",
       "1509   Somalia     Sorghum       2023-10-20     2023-11-19         2023-03-22   \n",
       "\n",
       "     Harvest_end_date  \n",
       "0          2023-06-30  \n",
       "1          2023-10-31  \n",
       "2          2023-08-31  \n",
       "3          2023-04-15  \n",
       "4          2023-10-15  \n",
       "...               ...  \n",
       "1505       2023-05-31  \n",
       "1506       2023-12-31  \n",
       "1507       2023-05-31  \n",
       "1508       2023-09-05  \n",
       "1509       2023-04-20  \n",
       "\n",
       "[1510 rows x 6 columns]"
      ]
     },
     "execution_count": 20,
     "metadata": {},
     "output_type": "execute_result"
    }
   ],
   "source": [
    "data"
   ]
  },
  {
   "cell_type": "code",
   "execution_count": 21,
   "metadata": {},
   "outputs": [
    {
     "data": {
      "text/plain": [
       "dtype('O')"
      ]
     },
     "execution_count": 21,
     "metadata": {},
     "output_type": "execute_result"
    }
   ],
   "source": [
    "np.dtype(data[\"Plant_start_date\"])"
   ]
  },
  {
   "cell_type": "code",
   "execution_count": null,
   "metadata": {},
   "outputs": [],
   "source": []
  }
 ],
 "metadata": {
  "kernelspec": {
   "display_name": "Python 3",
   "language": "python",
   "name": "python3"
  },
  "language_info": {
   "codemirror_mode": {
    "name": "ipython",
    "version": 3
   },
   "file_extension": ".py",
   "mimetype": "text/x-python",
   "name": "python",
   "nbconvert_exporter": "python",
   "pygments_lexer": "ipython3",
   "version": "3.9.6"
  },
  "orig_nbformat": 4
 },
 "nbformat": 4,
 "nbformat_minor": 2
}
